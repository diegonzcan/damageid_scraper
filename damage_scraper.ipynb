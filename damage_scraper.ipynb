{
 "cells": [
  {
   "cell_type": "code",
   "execution_count": 13,
   "id": "2389b280-2ad6-4b94-b353-ad24995d3c2c",
   "metadata": {},
   "outputs": [
    {
     "name": "stdin",
     "output_type": "stream",
     "text": [
      "Enter a date formatted as YYYY-MM-DD:  2022-12-12\n"
     ]
    },
    {
     "name": "stdout",
     "output_type": "stream",
     "text": [
      "Scraping DamageID...\n",
      "Complete\n"
     ]
    },
    {
     "name": "stdin",
     "output_type": "stream",
     "text": [
      "export? y/n y\n"
     ]
    },
    {
     "name": "stdout",
     "output_type": "stream",
     "text": [
      "File DamageID_2022-12-12.csv saved\n"
     ]
    }
   ],
   "source": [
    "import creds\n",
    "import requests\n",
    "from bs4 import BeautifulSoup\n",
    "import pandas as pd\n",
    "\n",
    "date_out = input('Enter a date formatted as YYYY-MM-DD: ') ## Variable global para la fecha que quieras exportar\n",
    "\n",
    "def GetResponseUrl(): #### esta funcion te da el url de response\n",
    "\n",
    "    date_components =  date_out.split(\"-\")\n",
    "\n",
    "    year, month, day = [int(item) for item in date_components]\n",
    "    \n",
    "    f_url = 'https://app.damageid.com/case/list?searchUnit=&inoutKey=dateOut&inoutValue='\n",
    "\n",
    "    date = f'{month}%2F{day}%2F{year}'\n",
    "\n",
    "    c_url = '&statusFilter=-1&templateFilter=7&searchCaseNumber=&searchUser=&searchLicensePlate=&searchVin='\n",
    "\n",
    "    response_url = f_url + date + c_url\n",
    "\n",
    "    return response_url\n",
    "\n",
    "\n",
    "request_url = ('https://app.damageid.com/authenticate')\n",
    "\n",
    "response_url = (GetResponseUrl())\n",
    "\n",
    "payload = { #### tienes que tener el archivo creds.py en el mismo folder que este notebook\n",
    "    \n",
    "    'username':creds.username,\n",
    "    'password':creds.password    \n",
    "    }\n",
    "\n",
    "case_list = []\n",
    "status_list = []\n",
    "van_list = []\n",
    "username = []\n",
    "\n",
    "print(\"Scraping DamageID...\")\n",
    "with requests.session() as s: \n",
    "        s.post(request_url, data = payload)\n",
    "        r = s.get(response_url)\n",
    "        soup = BeautifulSoup(r.content, 'html.parser')\n",
    "        \n",
    "        cases = soup.find_all('td', {'class':'damage-td-first'})\n",
    "        statuses = soup.find_all('td', {'class':'damage-td-last'})\n",
    "        table = soup.find('table', {\"class\":\"table table-hover\"})\n",
    "\n",
    "        for case in cases:\n",
    "            case_list.append(case.text.replace(\"\\t\",\"\").replace(\"\\n\",\"\").strip())\n",
    "        \n",
    "        \n",
    "        for status in statuses:\n",
    "                status_list.append(status.text.strip())\n",
    "        \n",
    "        for driver in table.find_all(\"tbody\"):\n",
    "            rows = driver.find_all(\"tr\")\n",
    "            for row in rows:\n",
    "                values = row.find(\"td\")\n",
    "                    \n",
    "                values1 = values.find_next(\"td\")\n",
    "                van_list.append(values1.text.strip())\n",
    "                   \n",
    "                values2 = values1.find_next(\"td\")\n",
    "                values2 = values2.text.split(\" \")[0].strip()\n",
    "                username.append(values2)\n",
    "\n",
    "        \n",
    "        df = pd.DataFrame({\"Cases ID\":case_list, \"Van Unit\":van_list, \"Username\":username, \"Status\":status_list})\n",
    "        \n",
    "        df[\"Date_Out\"] = date_out\n",
    "print(\"Complete\")\n",
    "\n",
    "a = input(\"export? y/n\")\n",
    "\n",
    "if a == \"y\":\n",
    "    file = \"DamageID_\" + date_out + \".csv\"\n",
    "    df.to_csv(file)\n",
    "    print(f\"File {file} saved\")\n",
    "else:\n",
    "    print(df)"
   ]
  }
 ],
 "metadata": {
  "kernelspec": {
   "display_name": "Python 3 (ipykernel)",
   "language": "python",
   "name": "python3"
  },
  "language_info": {
   "codemirror_mode": {
    "name": "ipython",
    "version": 3
   },
   "file_extension": ".py",
   "mimetype": "text/x-python",
   "name": "python",
   "nbconvert_exporter": "python",
   "pygments_lexer": "ipython3",
   "version": "3.9.7"
  }
 },
 "nbformat": 4,
 "nbformat_minor": 5
}
